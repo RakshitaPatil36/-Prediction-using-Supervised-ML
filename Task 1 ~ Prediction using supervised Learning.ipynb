{
 "cells": [
  {
   "cell_type": "markdown",
   "id": "a35b89e4",
   "metadata": {},
   "source": [
    "# Prediction using Supervised ML\n",
    "\n"
   ]
  },
  {
   "cell_type": "markdown",
   "id": "1fb06644",
   "metadata": {},
   "source": [
    "## Author: Rakshita Patil"
   ]
  },
  {
   "cell_type": "markdown",
   "id": "9b3a6a8d",
   "metadata": {},
   "source": [
    "### In this task we have to predict how much will the student score if the student studies for 9.25 hrs/day\n",
    "\n",
    "\n"
   ]
  },
  {
   "cell_type": "markdown",
   "id": "9e232996",
   "metadata": {},
   "source": [
    "#### Importing all required libraries "
   ]
  },
  {
   "cell_type": "code",
   "execution_count": 1,
   "id": "32e6abb7",
   "metadata": {},
   "outputs": [],
   "source": [
    "import numpy as np\n",
    "import pandas as pd\n",
    "import matplotlib.pyplot as plt\n",
    "%matplotlib inline\n",
    "import warnings\n",
    "warnings.filterwarnings(\"ignore\")"
   ]
  },
  {
   "cell_type": "markdown",
   "id": "3ed0c2f3",
   "metadata": {},
   "source": [
    "#### Reading data from link"
   ]
  },
  {
   "cell_type": "code",
   "execution_count": 2,
   "id": "53694a91",
   "metadata": {},
   "outputs": [
    {
     "data": {
      "text/html": [
       "<div>\n",
       "<style scoped>\n",
       "    .dataframe tbody tr th:only-of-type {\n",
       "        vertical-align: middle;\n",
       "    }\n",
       "\n",
       "    .dataframe tbody tr th {\n",
       "        vertical-align: top;\n",
       "    }\n",
       "\n",
       "    .dataframe thead th {\n",
       "        text-align: right;\n",
       "    }\n",
       "</style>\n",
       "<table border=\"1\" class=\"dataframe\">\n",
       "  <thead>\n",
       "    <tr style=\"text-align: right;\">\n",
       "      <th></th>\n",
       "      <th>Hours</th>\n",
       "      <th>Scores</th>\n",
       "    </tr>\n",
       "  </thead>\n",
       "  <tbody>\n",
       "    <tr>\n",
       "      <th>0</th>\n",
       "      <td>2.5</td>\n",
       "      <td>21</td>\n",
       "    </tr>\n",
       "    <tr>\n",
       "      <th>1</th>\n",
       "      <td>5.1</td>\n",
       "      <td>47</td>\n",
       "    </tr>\n",
       "    <tr>\n",
       "      <th>2</th>\n",
       "      <td>3.2</td>\n",
       "      <td>27</td>\n",
       "    </tr>\n",
       "    <tr>\n",
       "      <th>3</th>\n",
       "      <td>8.5</td>\n",
       "      <td>75</td>\n",
       "    </tr>\n",
       "    <tr>\n",
       "      <th>4</th>\n",
       "      <td>3.5</td>\n",
       "      <td>30</td>\n",
       "    </tr>\n",
       "  </tbody>\n",
       "</table>\n",
       "</div>"
      ],
      "text/plain": [
       "   Hours  Scores\n",
       "0    2.5      21\n",
       "1    5.1      47\n",
       "2    3.2      27\n",
       "3    8.5      75\n",
       "4    3.5      30"
      ]
     },
     "execution_count": 2,
     "metadata": {},
     "output_type": "execute_result"
    }
   ],
   "source": [
    "data=pd.read_table(\"http://bit.ly/w-data\",sep=\",\")\n",
    "data.head()"
   ]
  },
  {
   "cell_type": "code",
   "execution_count": 3,
   "id": "97377267",
   "metadata": {},
   "outputs": [
    {
     "name": "stdout",
     "output_type": "stream",
     "text": [
      "<class 'pandas.core.frame.DataFrame'>\n",
      "RangeIndex: 25 entries, 0 to 24\n",
      "Data columns (total 2 columns):\n",
      " #   Column  Non-Null Count  Dtype  \n",
      "---  ------  --------------  -----  \n",
      " 0   Hours   25 non-null     float64\n",
      " 1   Scores  25 non-null     int64  \n",
      "dtypes: float64(1), int64(1)\n",
      "memory usage: 528.0 bytes\n"
     ]
    }
   ],
   "source": [
    "data.info()"
   ]
  },
  {
   "cell_type": "markdown",
   "id": "e07525ee",
   "metadata": {},
   "source": [
    "#\n",
    "There are 25 observations and two columns in this data where Scores is the target column.\n",
    "Since the target column Scores is continuous in nature and there is only one feature in the data,this is Simple Linear Regression."
   ]
  },
  {
   "cell_type": "code",
   "execution_count": 4,
   "id": "b64df46c",
   "metadata": {},
   "outputs": [
    {
     "data": {
      "image/png": "[encoded data removed]",
      "text/plain": [
       "<Figure size 432x288 with 1 Axes>"
      ]
     },
     "metadata": {
      "needs_background": "light"
     },
     "output_type": "display_data"
    }
   ],
   "source": [
    "plt.scatter(data=data,x=\"Hours\",y=\"Scores\")\n",
    "plt.xlabel(\"No. of hours studied\")\n",
    "plt.ylabel(\"Percentage Scored\")\n",
    "plt.title(\"Score per hour\")\n",
    "plt.show()"
   ]
  },
  {
   "cell_type": "markdown",
   "id": "214006f5",
   "metadata": {},
   "source": [
    "#### From the graph,we can see there is positive linear relationship between No. of hours studied and Percentage scored "
   ]
  },
  {
   "cell_type": "markdown",
   "id": "06363da8",
   "metadata": {},
   "source": [
    "### Splitting data into feature and target"
   ]
  },
  {
   "cell_type": "code",
   "execution_count": 5,
   "id": "028028e0",
   "metadata": {},
   "outputs": [
    {
     "data": {
      "text/plain": [
       "array([[2.5],\n",
       "       [5.1],\n",
       "       [3.2],\n",
       "       [8.5],\n",
       "       [3.5],\n",
       "       [1.5],\n",
       "       [9.2],\n",
       "       [5.5],\n",
       "       [8.3],\n",
       "       [2.7],\n",
       "       [7.7],\n",
       "       [5.9],\n",
       "       [4.5],\n",
       "       [3.3],\n",
       "       [1.1],\n",
       "       [8.9],\n",
       "       [2.5],\n",
       "       [1.9],\n",
       "       [6.1],\n",
       "       [7.4],\n",
       "       [2.7],\n",
       "       [4.8],\n",
       "       [3.8],\n",
       "       [6.9],\n",
       "       [7.8]])"
      ]
     },
     "execution_count": 5,
     "metadata": {},
     "output_type": "execute_result"
    }
   ],
   "source": [
    "x=data.iloc[:,:-1].values\n",
    "x"
   ]
  },
  {
   "cell_type": "code",
   "execution_count": 6,
   "id": "db31e1ab",
   "metadata": {},
   "outputs": [
    {
     "data": {
      "text/plain": [
       "array([21, 47, 27, 75, 30, 20, 88, 60, 81, 25, 85, 62, 41, 42, 17, 95, 30,\n",
       "       24, 67, 69, 30, 54, 35, 76, 86], dtype=int64)"
      ]
     },
     "execution_count": 6,
     "metadata": {},
     "output_type": "execute_result"
    }
   ],
   "source": [
    "y=data.iloc[:,-1].values\n",
    "y"
   ]
  },
  {
   "cell_type": "markdown",
   "id": "684be65c",
   "metadata": {},
   "source": [
    "### Training the data "
   ]
  },
  {
   "cell_type": "code",
   "execution_count": 7,
   "id": "764709f2",
   "metadata": {},
   "outputs": [],
   "source": [
    "from sklearn.model_selection import train_test_split \n",
    "xtrain,xtest,ytrain,ytest=train_test_split(x,y,test_size=0.2,random_state=0)"
   ]
  },
  {
   "cell_type": "markdown",
   "id": "4fc5350c",
   "metadata": {},
   "source": [
    "# Building model "
   ]
  },
  {
   "cell_type": "code",
   "execution_count": 8,
   "id": "6c16eac0",
   "metadata": {},
   "outputs": [],
   "source": [
    "from sklearn.linear_model import LinearRegression\n",
    "lr=LinearRegression()\n",
    "lr.fit(xtrain,ytrain)\n",
    "ypred=lr.predict(xtest)"
   ]
  },
  {
   "cell_type": "code",
   "execution_count": 9,
   "id": "39e05403",
   "metadata": {},
   "outputs": [
    {
     "data": {
      "image/png": "[encoded data removed]",
      "text/plain": [
       "<Figure size 432x288 with 1 Axes>"
      ]
     },
     "metadata": {
      "needs_background": "light"
     },
     "output_type": "display_data"
    }
   ],
   "source": [
    "line=lr.coef_*x+lr.intercept_\n",
    "plt.scatter(x,y)\n",
    "plt.plot(x,line,color=\"m\")\n",
    "plt.xlabel(\"No. of hours studied\")\n",
    "plt.ylabel(\"Percentage Scored\")\n",
    "plt.title(\"Linear Regression\")\n",
    "plt.show()"
   ]
  },
  {
   "cell_type": "markdown",
   "id": "c6aed949",
   "metadata": {},
   "source": [
    "### Comparing actual vs predicted values"
   ]
  },
  {
   "cell_type": "code",
   "execution_count": 10,
   "id": "7b16f856",
   "metadata": {},
   "outputs": [
    {
     "data": {
      "text/html": [
       "<div>\n",
       "<style scoped>\n",
       "    .dataframe tbody tr th:only-of-type {\n",
       "        vertical-align: middle;\n",
       "    }\n",
       "\n",
       "    .dataframe tbody tr th {\n",
       "        vertical-align: top;\n",
       "    }\n",
       "\n",
       "    .dataframe thead th {\n",
       "        text-align: right;\n",
       "    }\n",
       "</style>\n",
       "<table border=\"1\" class=\"dataframe\">\n",
       "  <thead>\n",
       "    <tr style=\"text-align: right;\">\n",
       "      <th></th>\n",
       "      <th>Actual</th>\n",
       "      <th>Predicted</th>\n",
       "      <th>loss</th>\n",
       "    </tr>\n",
       "  </thead>\n",
       "  <tbody>\n",
       "    <tr>\n",
       "      <th>0</th>\n",
       "      <td>20</td>\n",
       "      <td>16.884145</td>\n",
       "      <td>3.115855</td>\n",
       "    </tr>\n",
       "    <tr>\n",
       "      <th>1</th>\n",
       "      <td>27</td>\n",
       "      <td>33.732261</td>\n",
       "      <td>6.732261</td>\n",
       "    </tr>\n",
       "    <tr>\n",
       "      <th>2</th>\n",
       "      <td>69</td>\n",
       "      <td>75.357018</td>\n",
       "      <td>6.357018</td>\n",
       "    </tr>\n",
       "    <tr>\n",
       "      <th>3</th>\n",
       "      <td>30</td>\n",
       "      <td>26.794801</td>\n",
       "      <td>3.205199</td>\n",
       "    </tr>\n",
       "    <tr>\n",
       "      <th>4</th>\n",
       "      <td>62</td>\n",
       "      <td>60.491033</td>\n",
       "      <td>1.508967</td>\n",
       "    </tr>\n",
       "  </tbody>\n",
       "</table>\n",
       "</div>"
      ],
      "text/plain": [
       "   Actual  Predicted      loss\n",
       "0      20  16.884145  3.115855\n",
       "1      27  33.732261  6.732261\n",
       "2      69  75.357018  6.357018\n",
       "3      30  26.794801  3.205199\n",
       "4      62  60.491033  1.508967"
      ]
     },
     "execution_count": 10,
     "metadata": {},
     "output_type": "execute_result"
    }
   ],
   "source": [
    "pd.DataFrame({\"Actual\":ytest,\"Predicted\":ypred,\"loss\":np.abs(ytest-ypred)})"
   ]
  },
  {
   "cell_type": "markdown",
   "id": "27940c47",
   "metadata": {},
   "source": [
    "## Predicting new observation"
   ]
  },
  {
   "cell_type": "code",
   "execution_count": 11,
   "id": "9a1cd4bb",
   "metadata": {},
   "outputs": [
    {
     "name": "stdout",
     "output_type": "stream",
     "text": [
      "No. of hours:9.25 \n",
      "Percentage Scored:93.69173248737538\n"
     ]
    }
   ],
   "source": [
    "new_hours = 9.25\n",
    "new_pred = lr.predict([[new_hours]])\n",
    "print(f\"No. of hours:{new_hours} \\nPercentage Scored:{new_pred[0]}\")\n",
    "    "
   ]
  },
  {
   "cell_type": "markdown",
   "id": "162a9909",
   "metadata": {},
   "source": [
    "# Evaluating the model"
   ]
  },
  {
   "cell_type": "code",
   "execution_count": 12,
   "id": "f3e95213",
   "metadata": {},
   "outputs": [
    {
     "name": "stdout",
     "output_type": "stream",
     "text": [
      "Mean Absolute Error:4.183859899002975\n",
      "Mean Squared Error:21.5987693072174\n",
      "Root Mean Squared Error:4.6474476121003665\n",
      "Accuracy:94.54906892105356\n"
     ]
    }
   ],
   "source": [
    "from sklearn.metrics import mean_absolute_error,mean_squared_error,r2_score\n",
    "mae=mean_absolute_error(ytest,ypred)\n",
    "mse=mean_squared_error(ytest,ypred)\n",
    "rmse=np.sqrt(mse)\n",
    "r2=r2_score(ytest,ypred)\n",
    "\n",
    "print(f\"Mean Absolute Error:{mae}\\nMean Squared Error:{mse}\\nRoot Mean Squared Error:{rmse}\\nAccuracy:{r2*100}\")"
   ]
  }
 ],
 "metadata": {
  "kernelspec": {
   "display_name": "Python 3 (ipykernel)",
   "language": "python",
   "name": "python3"
  },
  "language_info": {
   "codemirror_mode": {
    "name": "ipython",
    "version": 3
   },
   "file_extension": ".py",
   "mimetype": "text/x-python",
   "name": "python",
   "nbconvert_exporter": "python",
   "pygments_lexer": "ipython3",
   "version": "3.9.12"
  }
 },
 "nbformat": 4,
 "nbformat_minor": 5
}
